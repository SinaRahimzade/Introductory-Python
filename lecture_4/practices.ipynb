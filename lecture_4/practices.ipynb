{
 "cells": [
  {
   "attachments": {},
   "cell_type": "markdown",
   "metadata": {},
   "source": [
    "# Problem 1: \n",
    "move all zeros to the end of the array"
   ]
  },
  {
   "cell_type": "code",
   "execution_count": null,
   "metadata": {},
   "outputs": [],
   "source": [
    "array = map(int, input().split(','))\n",
    "array = list(array)"
   ]
  },
  {
   "cell_type": "code",
   "execution_count": null,
   "metadata": {},
   "outputs": [],
   "source": [
    "array"
   ]
  },
  {
   "cell_type": "code",
   "execution_count": null,
   "metadata": {},
   "outputs": [],
   "source": [
    "\n",
    "buffer = []\n",
    "for i in range(len(array)):\n",
    "    if array[i] != 0:\n",
    "        buffer.append(array[i])\n",
    "for i in range(len(array)):\n",
    "    if array[i] == 0:\n",
    "        buffer.append(array[i])\n",
    "print(buffer)\n"
   ]
  },
  {
   "attachments": {},
   "cell_type": "markdown",
   "metadata": {},
   "source": [
    "# Problem 2:\n",
    "find minimum and maximum length of list in a nested list"
   ]
  },
  {
   "cell_type": "code",
   "execution_count": null,
   "metadata": {},
   "outputs": [],
   "source": [
    "nested_list = eval(input())\n",
    "print(nested_list)"
   ]
  },
  {
   "attachments": {},
   "cell_type": "markdown",
   "metadata": {},
   "source": [
    "### First approach\n",
    "without using built-in functions"
   ]
  },
  {
   "cell_type": "code",
   "execution_count": null,
   "metadata": {},
   "outputs": [],
   "source": [
    "min_length = len(nested_list[0])\n",
    "max_length = len(nested_list[0])\n",
    "for l in nested_list:\n",
    "    if len(l) < min_length:\n",
    "        min_length = len(l)\n",
    "    if len(l) > max_length:\n",
    "        max_length = len(l)\n",
    "print(min_length, max_length)"
   ]
  },
  {
   "attachments": {},
   "cell_type": "markdown",
   "metadata": {},
   "source": [
    "### Second approach\n",
    "using built-in functions"
   ]
  },
  {
   "cell_type": "code",
   "execution_count": null,
   "metadata": {},
   "outputs": [],
   "source": [
    "length_list = map(len, nested_list)\n",
    "length_list = list(length_list)\n",
    "length_list"
   ]
  },
  {
   "cell_type": "code",
   "execution_count": null,
   "metadata": {},
   "outputs": [],
   "source": [
    "length_list = [len(l) for l in nested_list]\n",
    "length_list"
   ]
  },
  {
   "cell_type": "code",
   "execution_count": null,
   "metadata": {},
   "outputs": [],
   "source": [
    "length_list  = []\n",
    "for l in nested_list:\n",
    "    length_list.append(len(l))\n",
    "length_list"
   ]
  },
  {
   "cell_type": "code",
   "execution_count": null,
   "metadata": {},
   "outputs": [],
   "source": [
    "print(min(length_list), max(length_list))"
   ]
  },
  {
   "attachments": {},
   "cell_type": "markdown",
   "metadata": {},
   "source": [
    "# Problem 3:\n",
    "turn a set of pairs into a dictionary, all values of a key are stored in a list, and the key is sorted."
   ]
  },
  {
   "cell_type": "code",
   "execution_count": null,
   "metadata": {},
   "outputs": [],
   "source": [
    "with open('testcases/ex3/in/input1.txt', 'r') as f:\n",
    "    pairs_str = f.read()"
   ]
  },
  {
   "cell_type": "code",
   "execution_count": null,
   "metadata": {},
   "outputs": [],
   "source": [
    "pairs_str"
   ]
  },
  {
   "cell_type": "code",
   "execution_count": null,
   "metadata": {},
   "outputs": [],
   "source": [
    "dct = {}\n",
    "pairs = pairs_str.split(\"\\n\")\n",
    "for pair in pairs:\n",
    "    if pair == \" \":\n",
    "        break\n",
    "    splited = pair.split(\":\")\n",
    "    key = splited[0]\n",
    "    value = int(splited[1])\n",
    "    if key in dct.keys():\n",
    "        dct[key] = dct[key] + [value]\n",
    "    else:\n",
    "        dct[key] = [value]\n",
    "dct"
   ]
  },
  {
   "cell_type": "code",
   "execution_count": null,
   "metadata": {},
   "outputs": [],
   "source": [
    "# sorted\n",
    "sorted_dct = {k : dct[k] for k in sorted(dct.keys())}\n",
    "sorted_dct"
   ]
  },
  {
   "attachments": {},
   "cell_type": "markdown",
   "metadata": {},
   "source": [
    "# Problem 4:\n",
    "turn a list of tuples into a list of lists "
   ]
  },
  {
   "cell_type": "code",
   "execution_count": null,
   "metadata": {},
   "outputs": [],
   "source": [
    "list_of_tuples = eval(input())"
   ]
  },
  {
   "cell_type": "code",
   "execution_count": null,
   "metadata": {},
   "outputs": [],
   "source": [
    "list_of_lists = list(map(list, list_of_tuples))"
   ]
  }
 ],
 "metadata": {
  "kernelspec": {
   "display_name": "delta",
   "language": "python",
   "name": "python3"
  },
  "language_info": {
   "codemirror_mode": {
    "name": "ipython",
    "version": 3
   },
   "file_extension": ".py",
   "mimetype": "text/x-python",
   "name": "python",
   "nbconvert_exporter": "python",
   "pygments_lexer": "ipython3",
   "version": "3.9.13 | packaged by conda-forge | (main, May 27 2022, 17:00:52) \n[Clang 13.0.1 ]"
  },
  "orig_nbformat": 4,
  "vscode": {
   "interpreter": {
    "hash": "7453fcc6446e76ac75a8f3d6b30bb12026fb37d5ea3951d94237bb4b7dcea457"
   }
  }
 },
 "nbformat": 4,
 "nbformat_minor": 2
}
